{
 "cells": [
  {
   "cell_type": "code",
   "execution_count": 36,
   "metadata": {},
   "outputs": [
    {
     "ename": "ModuleNotFoundError",
     "evalue": "No module named 'tensorflow.contrib'",
     "output_type": "error",
     "traceback": [
      "\u001b[0;31m---------------------------------------------------------------------------\u001b[0m",
      "\u001b[0;31mModuleNotFoundError\u001b[0m                       Traceback (most recent call last)",
      "\u001b[0;32m<ipython-input-36-89a8e329bedc>\u001b[0m in \u001b[0;36m<module>\u001b[0;34m\u001b[0m\n\u001b[1;32m      9\u001b[0m \u001b[0;32mfrom\u001b[0m \u001b[0msklearn\u001b[0m\u001b[0;34m.\u001b[0m\u001b[0mmodel_selection\u001b[0m \u001b[0;32mimport\u001b[0m \u001b[0mtrain_test_split\u001b[0m\u001b[0;34m\u001b[0m\u001b[0;34m\u001b[0m\u001b[0m\n\u001b[1;32m     10\u001b[0m \u001b[0;34m\u001b[0m\u001b[0m\n\u001b[0;32m---> 11\u001b[0;31m \u001b[0;32mfrom\u001b[0m \u001b[0mbert\u001b[0m \u001b[0;32mimport\u001b[0m \u001b[0mrun_classifier\u001b[0m\u001b[0;34m\u001b[0m\u001b[0;34m\u001b[0m\u001b[0m\n\u001b[0m\u001b[1;32m     12\u001b[0m \u001b[0;32mfrom\u001b[0m \u001b[0mbert\u001b[0m \u001b[0;32mimport\u001b[0m \u001b[0moptimization\u001b[0m\u001b[0;34m\u001b[0m\u001b[0;34m\u001b[0m\u001b[0m\n\u001b[1;32m     13\u001b[0m \u001b[0;32mfrom\u001b[0m \u001b[0mbert\u001b[0m \u001b[0;32mimport\u001b[0m \u001b[0mtokenization\u001b[0m\u001b[0;34m\u001b[0m\u001b[0;34m\u001b[0m\u001b[0m\n",
      "\u001b[0;32m/opt/anaconda3/lib/python3.7/site-packages/bert/run_classifier.py\u001b[0m in \u001b[0;36m<module>\u001b[0;34m\u001b[0m\n\u001b[1;32m     22\u001b[0m \u001b[0;32mimport\u001b[0m \u001b[0mcsv\u001b[0m\u001b[0;34m\u001b[0m\u001b[0;34m\u001b[0m\u001b[0m\n\u001b[1;32m     23\u001b[0m \u001b[0;32mimport\u001b[0m \u001b[0mos\u001b[0m\u001b[0;34m\u001b[0m\u001b[0;34m\u001b[0m\u001b[0m\n\u001b[0;32m---> 24\u001b[0;31m \u001b[0;32mfrom\u001b[0m \u001b[0mbert\u001b[0m \u001b[0;32mimport\u001b[0m \u001b[0mmodeling\u001b[0m\u001b[0;34m\u001b[0m\u001b[0;34m\u001b[0m\u001b[0m\n\u001b[0m\u001b[1;32m     25\u001b[0m \u001b[0;32mfrom\u001b[0m \u001b[0mbert\u001b[0m \u001b[0;32mimport\u001b[0m \u001b[0moptimization\u001b[0m\u001b[0;34m\u001b[0m\u001b[0;34m\u001b[0m\u001b[0m\n\u001b[1;32m     26\u001b[0m \u001b[0;32mfrom\u001b[0m \u001b[0mbert\u001b[0m \u001b[0;32mimport\u001b[0m \u001b[0mtokenization\u001b[0m\u001b[0;34m\u001b[0m\u001b[0;34m\u001b[0m\u001b[0m\n",
      "\u001b[0;32m/opt/anaconda3/lib/python3.7/site-packages/bert/modeling.py\u001b[0m in \u001b[0;36m<module>\u001b[0;34m\u001b[0m\n\u001b[1;32m     27\u001b[0m \u001b[0;32mimport\u001b[0m \u001b[0msix\u001b[0m\u001b[0;34m\u001b[0m\u001b[0;34m\u001b[0m\u001b[0m\n\u001b[1;32m     28\u001b[0m \u001b[0;32mimport\u001b[0m \u001b[0mtensorflow\u001b[0m\u001b[0;34m.\u001b[0m\u001b[0mcompat\u001b[0m\u001b[0;34m.\u001b[0m\u001b[0mv1\u001b[0m \u001b[0;32mas\u001b[0m \u001b[0mtf\u001b[0m\u001b[0;34m\u001b[0m\u001b[0;34m\u001b[0m\u001b[0m\n\u001b[0;32m---> 29\u001b[0;31m \u001b[0;32mfrom\u001b[0m \u001b[0mtensorflow\u001b[0m\u001b[0;34m.\u001b[0m\u001b[0mcontrib\u001b[0m \u001b[0;32mimport\u001b[0m \u001b[0mlayers\u001b[0m \u001b[0;32mas\u001b[0m \u001b[0mcontrib_layers\u001b[0m\u001b[0;34m\u001b[0m\u001b[0;34m\u001b[0m\u001b[0m\n\u001b[0m\u001b[1;32m     30\u001b[0m \u001b[0;34m\u001b[0m\u001b[0m\n\u001b[1;32m     31\u001b[0m \u001b[0;34m\u001b[0m\u001b[0m\n",
      "\u001b[0;31mModuleNotFoundError\u001b[0m: No module named 'tensorflow.contrib'"
     ]
    }
   ],
   "source": [
    "import os\n",
    "import glob\n",
    "import json\n",
    "import bert\n",
    "import numpy as np\n",
    "import pandas as pd\n",
    "\n",
    "from sklearn.model_selection import KFold\n",
    "from sklearn.model_selection import train_test_split\n",
    "\n",
    "from bert import run_classifier\n",
    "from bert import optimization\n",
    "from bert import tokenization"
   ]
  },
  {
   "cell_type": "code",
   "execution_count": 37,
   "metadata": {},
   "outputs": [],
   "source": [
    "ROOT = os.getcwd().split(\"src\")[0]"
   ]
  },
  {
   "cell_type": "markdown",
   "metadata": {},
   "source": [
    "### Required Functions"
   ]
  },
  {
   "cell_type": "code",
   "execution_count": 3,
   "metadata": {},
   "outputs": [],
   "source": [
    "def write_json_file(data, file):\n",
    "    \"\"\"\n",
    "    Write data to JSON file\n",
    "    \"\"\"\n",
    "\n",
    "    with open(f\"{file}\", \"w\") as f:\n",
    "        json.dump(data, f)"
   ]
  },
  {
   "cell_type": "code",
   "execution_count": 4,
   "metadata": {},
   "outputs": [],
   "source": [
    "def read_json_file(file):\n",
    "    \"\"\"\n",
    "    Read data from JSON file\n",
    "    \"\"\"\n",
    "\n",
    "    with open(f\"{file}\", \"r\") as f:\n",
    "        data = json.load(f)\n",
    "    \n",
    "    return data"
   ]
  },
  {
   "cell_type": "markdown",
   "metadata": {},
   "source": [
    "### Import REF Submission Strings"
   ]
  },
  {
   "cell_type": "code",
   "execution_count": 29,
   "metadata": {},
   "outputs": [
    {
     "data": {
      "text/html": [
       "<div>\n",
       "<style scoped>\n",
       "    .dataframe tbody tr th:only-of-type {\n",
       "        vertical-align: middle;\n",
       "    }\n",
       "\n",
       "    .dataframe tbody tr th {\n",
       "        vertical-align: top;\n",
       "    }\n",
       "\n",
       "    .dataframe thead th {\n",
       "        text-align: right;\n",
       "    }\n",
       "</style>\n",
       "<table border=\"1\" class=\"dataframe\">\n",
       "  <thead>\n",
       "    <tr style=\"text-align: right;\">\n",
       "      <th></th>\n",
       "      <th>institution_code</th>\n",
       "      <th>uoa</th>\n",
       "      <th>merge_code</th>\n",
       "      <th>body</th>\n",
       "      <th>sentences</th>\n",
       "    </tr>\n",
       "  </thead>\n",
       "  <tbody>\n",
       "    <tr>\n",
       "      <th>0</th>\n",
       "      <td>10007767</td>\n",
       "      <td>22</td>\n",
       "      <td>10007767-22</td>\n",
       "      <td>patons research health policy politics health ...</td>\n",
       "      <td>[patons research health policy politics health...</td>\n",
       "    </tr>\n",
       "    <tr>\n",
       "      <th>1</th>\n",
       "      <td>10003678</td>\n",
       "      <td>32</td>\n",
       "      <td>10003678-32</td>\n",
       "      <td>casestudy ofimpact arise fromresearch peter os...</td>\n",
       "      <td>[casestudy ofimpact arise fromresearch peter o...</td>\n",
       "    </tr>\n",
       "    <tr>\n",
       "      <th>2</th>\n",
       "      <td>10007767</td>\n",
       "      <td>3</td>\n",
       "      <td>10007767-3</td>\n",
       "      <td>research prof shaughn obrien team keele lead f...</td>\n",
       "      <td>[research prof shaughn obrien team keele lead ...</td>\n",
       "    </tr>\n",
       "    <tr>\n",
       "      <th>3</th>\n",
       "      <td>10007805</td>\n",
       "      <td>12</td>\n",
       "      <td>10007805-12</td>\n",
       "      <td>performance measurement research university st...</td>\n",
       "      <td>[performance measurement research university s...</td>\n",
       "    </tr>\n",
       "    <tr>\n",
       "      <th>4</th>\n",
       "      <td>10007790</td>\n",
       "      <td>26</td>\n",
       "      <td>10007790-26</td>\n",
       "      <td>every year million people orldwide experience ...</td>\n",
       "      <td>[every year million people orldwide experience...</td>\n",
       "    </tr>\n",
       "  </tbody>\n",
       "</table>\n",
       "</div>"
      ],
      "text/plain": [
       "  institution_code uoa   merge_code  \\\n",
       "0         10007767  22  10007767-22   \n",
       "1         10003678  32  10003678-32   \n",
       "2         10007767   3   10007767-3   \n",
       "3         10007805  12  10007805-12   \n",
       "4         10007790  26  10007790-26   \n",
       "\n",
       "                                                body  \\\n",
       "0  patons research health policy politics health ...   \n",
       "1  casestudy ofimpact arise fromresearch peter os...   \n",
       "2  research prof shaughn obrien team keele lead f...   \n",
       "3  performance measurement research university st...   \n",
       "4  every year million people orldwide experience ...   \n",
       "\n",
       "                                           sentences  \n",
       "0  [patons research health policy politics health...  \n",
       "1  [casestudy ofimpact arise fromresearch peter o...  \n",
       "2  [research prof shaughn obrien team keele lead ...  \n",
       "3  [performance measurement research university s...  \n",
       "4  [every year million people orldwide experience...  "
      ]
     },
     "execution_count": 29,
     "metadata": {},
     "output_type": "execute_result"
    }
   ],
   "source": [
    "ref_paper_dict = {\n",
    "    \"institution_code\": [],\n",
    "    \"uoa\": [],\n",
    "    \"merge_code\": [],\n",
    "    \"body\": [],\n",
    "    \"sentences\": [],\n",
    "}\n",
    "json_documents = glob.glob(f\"{ROOT}/data/ref_submissions/json/preprocessed/**/*.json\",\n",
    "                          recursive=True)\n",
    "for json_document in json_documents:\n",
    "    data = read_json_file(f\"{json_document}\")\n",
    "    file_name = json_document.split(\"/\")[-1]\n",
    "    file_name = file_name.replace(\".json\", \"\")\n",
    "    institution_code = file_name.split(\"-\")[0]\n",
    "    uoa = file_name.split(\"-\")[1]\n",
    "    ref_paper_dict[\"institution_code\"].append(institution_code)\n",
    "    ref_paper_dict[\"uoa\"].append(uoa)\n",
    "    ref_paper_dict[\"merge_code\"].append(f\"{institution_code}-{uoa}\")\n",
    "    sentences = []\n",
    "    chapter_strings = []\n",
    "    for chapter in data[\"chapters\"]:\n",
    "        for sentence in data[\"chapters\"][chapter]:\n",
    "            sentences.append(sentence)\n",
    "        chapter_strings.append(\" \".join(data[\"chapters\"][chapter]))\n",
    "    doc_string = \" \".join(chapter_strings)\n",
    "    ref_paper_dict[\"body\"].append(doc_string)\n",
    "    ref_paper_dict[\"sentences\"].append(sentences)\n",
    "ref_paper_df = pd.DataFrame(ref_paper_dict)\n",
    "ref_paper_df.head()"
   ]
  },
  {
   "cell_type": "markdown",
   "metadata": {},
   "source": [
    "### Form REF Submission Dataframe"
   ]
  },
  {
   "cell_type": "code",
   "execution_count": 21,
   "metadata": {},
   "outputs": [],
   "source": [
    "ref_submission = pd.read_csv(f\"{ROOT}/data/ref_submissions/ref_impact_results.csv\")"
   ]
  },
  {
   "cell_type": "code",
   "execution_count": 22,
   "metadata": {},
   "outputs": [
    {
     "data": {
      "text/html": [
       "<div>\n",
       "<style scoped>\n",
       "    .dataframe tbody tr th:only-of-type {\n",
       "        vertical-align: middle;\n",
       "    }\n",
       "\n",
       "    .dataframe tbody tr th {\n",
       "        vertical-align: top;\n",
       "    }\n",
       "\n",
       "    .dataframe thead th {\n",
       "        text-align: right;\n",
       "    }\n",
       "</style>\n",
       "<table border=\"1\" class=\"dataframe\">\n",
       "  <thead>\n",
       "    <tr style=\"text-align: right;\">\n",
       "      <th></th>\n",
       "      <th>institution</th>\n",
       "      <th>institution_code</th>\n",
       "      <th>uoa</th>\n",
       "      <th>unclassified</th>\n",
       "      <th>1*</th>\n",
       "      <th>2*</th>\n",
       "      <th>3*</th>\n",
       "      <th>4*</th>\n",
       "      <th>weighted</th>\n",
       "      <th>merge_code</th>\n",
       "    </tr>\n",
       "  </thead>\n",
       "  <tbody>\n",
       "    <tr>\n",
       "      <th>0</th>\n",
       "      <td>Anglia Ruskin University</td>\n",
       "      <td>10000291</td>\n",
       "      <td>3</td>\n",
       "      <td>0.0</td>\n",
       "      <td>0.0</td>\n",
       "      <td>0.0</td>\n",
       "      <td>0.8</td>\n",
       "      <td>0.2</td>\n",
       "      <td>11.30</td>\n",
       "      <td>10000291-3</td>\n",
       "    </tr>\n",
       "    <tr>\n",
       "      <th>1</th>\n",
       "      <td>Anglia Ruskin University</td>\n",
       "      <td>10000291</td>\n",
       "      <td>4</td>\n",
       "      <td>0.0</td>\n",
       "      <td>0.8</td>\n",
       "      <td>0.2</td>\n",
       "      <td>0.0</td>\n",
       "      <td>0.0</td>\n",
       "      <td>13.70</td>\n",
       "      <td>10000291-4</td>\n",
       "    </tr>\n",
       "    <tr>\n",
       "      <th>2</th>\n",
       "      <td>Anglia Ruskin University</td>\n",
       "      <td>10000291</td>\n",
       "      <td>5</td>\n",
       "      <td>0.0</td>\n",
       "      <td>0.2</td>\n",
       "      <td>0.7</td>\n",
       "      <td>0.1</td>\n",
       "      <td>0.0</td>\n",
       "      <td>7.25</td>\n",
       "      <td>10000291-5</td>\n",
       "    </tr>\n",
       "    <tr>\n",
       "      <th>3</th>\n",
       "      <td>Anglia Ruskin University</td>\n",
       "      <td>10000291</td>\n",
       "      <td>15</td>\n",
       "      <td>0.0</td>\n",
       "      <td>0.0</td>\n",
       "      <td>0.3</td>\n",
       "      <td>0.7</td>\n",
       "      <td>0.0</td>\n",
       "      <td>8.00</td>\n",
       "      <td>10000291-15</td>\n",
       "    </tr>\n",
       "    <tr>\n",
       "      <th>4</th>\n",
       "      <td>Anglia Ruskin University</td>\n",
       "      <td>10000291</td>\n",
       "      <td>16</td>\n",
       "      <td>0.0</td>\n",
       "      <td>0.5</td>\n",
       "      <td>0.5</td>\n",
       "      <td>0.0</td>\n",
       "      <td>0.0</td>\n",
       "      <td>8.00</td>\n",
       "      <td>10000291-16</td>\n",
       "    </tr>\n",
       "  </tbody>\n",
       "</table>\n",
       "</div>"
      ],
      "text/plain": [
       "                institution  institution_code  uoa  unclassified   1*   2*  \\\n",
       "0  Anglia Ruskin University          10000291    3           0.0  0.0  0.0   \n",
       "1  Anglia Ruskin University          10000291    4           0.0  0.8  0.2   \n",
       "2  Anglia Ruskin University          10000291    5           0.0  0.2  0.7   \n",
       "3  Anglia Ruskin University          10000291   15           0.0  0.0  0.3   \n",
       "4  Anglia Ruskin University          10000291   16           0.0  0.5  0.5   \n",
       "\n",
       "    3*   4*  weighted   merge_code  \n",
       "0  0.8  0.2     11.30   10000291-3  \n",
       "1  0.0  0.0     13.70   10000291-4  \n",
       "2  0.1  0.0      7.25   10000291-5  \n",
       "3  0.7  0.0      8.00  10000291-15  \n",
       "4  0.0  0.0      8.00  10000291-16  "
      ]
     },
     "execution_count": 22,
     "metadata": {},
     "output_type": "execute_result"
    }
   ],
   "source": [
    "ref_submission = ref_submission.rename(\n",
    "    columns={\n",
    "        \"Institution name\": \"institution\",\n",
    "        \"Institution code (UKPRN)\": \"institution_code\",\n",
    "        \"Unit of assessment number\": \"uoa\",\n",
    "    }\n",
    ")\n",
    "ref_submission[\"merge_code\"] = ref_submission[\"institution_code\"].apply(str).str.cat(ref_submission[\"uoa\"].apply(str), sep=\"-\")\n",
    "ref_submission.head()"
   ]
  },
  {
   "cell_type": "code",
   "execution_count": 24,
   "metadata": {},
   "outputs": [
    {
     "data": {
      "text/html": [
       "<div>\n",
       "<style scoped>\n",
       "    .dataframe tbody tr th:only-of-type {\n",
       "        vertical-align: middle;\n",
       "    }\n",
       "\n",
       "    .dataframe tbody tr th {\n",
       "        vertical-align: top;\n",
       "    }\n",
       "\n",
       "    .dataframe thead th {\n",
       "        text-align: right;\n",
       "    }\n",
       "</style>\n",
       "<table border=\"1\" class=\"dataframe\">\n",
       "  <thead>\n",
       "    <tr style=\"text-align: right;\">\n",
       "      <th></th>\n",
       "      <th>institution</th>\n",
       "      <th>institution_code</th>\n",
       "      <th>merge_code</th>\n",
       "      <th>uoa</th>\n",
       "      <th>unclassified</th>\n",
       "      <th>1*</th>\n",
       "      <th>2*</th>\n",
       "      <th>3*</th>\n",
       "      <th>4*</th>\n",
       "      <th>weighted</th>\n",
       "      <th>body</th>\n",
       "    </tr>\n",
       "  </thead>\n",
       "  <tbody>\n",
       "    <tr>\n",
       "      <th>0</th>\n",
       "      <td>Keele University</td>\n",
       "      <td>10007767.0</td>\n",
       "      <td>10007767-22</td>\n",
       "      <td>22.0</td>\n",
       "      <td>0.0</td>\n",
       "      <td>0.0</td>\n",
       "      <td>0.2</td>\n",
       "      <td>0.60</td>\n",
       "      <td>0.20</td>\n",
       "      <td>30.10</td>\n",
       "      <td>calum patons research keele university underta...</td>\n",
       "    </tr>\n",
       "    <tr>\n",
       "      <th>1</th>\n",
       "      <td>Kingston University</td>\n",
       "      <td>10003678.0</td>\n",
       "      <td>10003678-32</td>\n",
       "      <td>32.0</td>\n",
       "      <td>0.0</td>\n",
       "      <td>0.0</td>\n",
       "      <td>0.4</td>\n",
       "      <td>0.30</td>\n",
       "      <td>0.30</td>\n",
       "      <td>6.20</td>\n",
       "      <td>research underpin impact case study may divide...</td>\n",
       "    </tr>\n",
       "    <tr>\n",
       "      <th>2</th>\n",
       "      <td>Keele University</td>\n",
       "      <td>10007767.0</td>\n",
       "      <td>10007767-3</td>\n",
       "      <td>3.0</td>\n",
       "      <td>0.0</td>\n",
       "      <td>0.0</td>\n",
       "      <td>0.0</td>\n",
       "      <td>0.24</td>\n",
       "      <td>0.76</td>\n",
       "      <td>43.98</td>\n",
       "      <td>quantify menstrual blood loss menstrual pictog...</td>\n",
       "    </tr>\n",
       "    <tr>\n",
       "      <th>3</th>\n",
       "      <td>University of Strathclyde</td>\n",
       "      <td>10007805.0</td>\n",
       "      <td>10007805-12</td>\n",
       "      <td>12.0</td>\n",
       "      <td>0.0</td>\n",
       "      <td>0.0</td>\n",
       "      <td>0.2</td>\n",
       "      <td>0.50</td>\n",
       "      <td>0.30</td>\n",
       "      <td>67.20</td>\n",
       "      <td>associate train programme develop context rese...</td>\n",
       "    </tr>\n",
       "    <tr>\n",
       "      <th>4</th>\n",
       "      <td>University of Edinburgh</td>\n",
       "      <td>10007790.0</td>\n",
       "      <td>10007790-26</td>\n",
       "      <td>26.0</td>\n",
       "      <td>0.0</td>\n",
       "      <td>0.0</td>\n",
       "      <td>0.1</td>\n",
       "      <td>0.50</td>\n",
       "      <td>0.40</td>\n",
       "      <td>23.80</td>\n",
       "      <td>physical fitness reduce stroke impair fitness ...</td>\n",
       "    </tr>\n",
       "  </tbody>\n",
       "</table>\n",
       "</div>"
      ],
      "text/plain": [
       "                 institution  institution_code   merge_code   uoa  \\\n",
       "0           Keele University        10007767.0  10007767-22  22.0   \n",
       "1        Kingston University        10003678.0  10003678-32  32.0   \n",
       "2           Keele University        10007767.0   10007767-3   3.0   \n",
       "3  University of Strathclyde        10007805.0  10007805-12  12.0   \n",
       "4    University of Edinburgh        10007790.0  10007790-26  26.0   \n",
       "\n",
       "   unclassified   1*   2*    3*    4*  weighted  \\\n",
       "0           0.0  0.0  0.2  0.60  0.20     30.10   \n",
       "1           0.0  0.0  0.4  0.30  0.30      6.20   \n",
       "2           0.0  0.0  0.0  0.24  0.76     43.98   \n",
       "3           0.0  0.0  0.2  0.50  0.30     67.20   \n",
       "4           0.0  0.0  0.1  0.50  0.40     23.80   \n",
       "\n",
       "                                                body  \n",
       "0  calum patons research keele university underta...  \n",
       "1  research underpin impact case study may divide...  \n",
       "2  quantify menstrual blood loss menstrual pictog...  \n",
       "3  associate train programme develop context rese...  \n",
       "4  physical fitness reduce stroke impair fitness ...  "
      ]
     },
     "execution_count": 24,
     "metadata": {},
     "output_type": "execute_result"
    }
   ],
   "source": [
    "ref_vector_scores = pd.merge(ref_paper_df, ref_submission, on=\"merge_code\", how=\"left\")\n",
    "ref_vector_scores = ref_vector_scores.drop([\"institution_code_x\", \"uoa_x\"], axis=1)\n",
    "ref_vector_scores = ref_vector_scores.rename(\n",
    "    columns={\n",
    "        \"institution_code_y\": \"institution_code\",\n",
    "        \"uoa_y\": \"uoa\",\n",
    "    }\n",
    ")\n",
    "ref_vector_scores[\"institution_code\"] = pd.to_numeric(ref_vector_scores[\"institution_code\"], errors=\"coerce\")\n",
    "ref_vector_scores[\"4*\"] = pd.to_numeric(ref_vector_scores[\"4*\"])\n",
    "ref_vector_scores[\"3*\"] = pd.to_numeric(ref_vector_scores[\"3*\"])\n",
    "ref_vector_scores[\"2*\"] = pd.to_numeric(ref_vector_scores[\"2*\"])\n",
    "ref_vector_scores[\"1*\"] = pd.to_numeric(ref_vector_scores[\"1*\"])\n",
    "ref_vector_scores[\"unclassified\"] = pd.to_numeric(ref_vector_scores[\"unclassified\"])\n",
    "ref_vector_scores = ref_vector_scores[[\n",
    "    \"institution\",\n",
    "    \"institution_code\",\n",
    "    \"merge_code\",\n",
    "    \"uoa\",\n",
    "    \"unclassified\",\n",
    "    \"1*\",\n",
    "    \"2*\",\n",
    "    \"3*\",\n",
    "    \"4*\",\n",
    "    \"weighted\",\n",
    "    \"body\",\n",
    "]\n",
    "]\n",
    "ref_vector_scores.head()"
   ]
  },
  {
   "cell_type": "markdown",
   "metadata": {},
   "source": [
    "### Prepare train and test data"
   ]
  },
  {
   "cell_type": "code",
   "execution_count": 25,
   "metadata": {},
   "outputs": [
    {
     "name": "stdout",
     "output_type": "stream",
     "text": [
      "<class 'numpy.ndarray'>, (4900, 5)\n"
     ]
    }
   ],
   "source": [
    "y_class = ref_vector_scores[[\"unclassified\", \"1*\", \"2*\", \"3*\", \"4*\"]].to_numpy()\n",
    "print(f\"{type(y_class)}, {y_class.shape}\")"
   ]
  },
  {
   "cell_type": "code",
   "execution_count": 26,
   "metadata": {},
   "outputs": [
    {
     "name": "stdout",
     "output_type": "stream",
     "text": [
      "<class 'numpy.ndarray'>, (4900,)\n"
     ]
    }
   ],
   "source": [
    "y = ref_vector_scores[\"weighted\"].to_numpy()\n",
    "print(f\"{type(y)}, {y.shape}\")"
   ]
  },
  {
   "cell_type": "code",
   "execution_count": 13,
   "metadata": {},
   "outputs": [
    {
     "name": "stdout",
     "output_type": "stream",
     "text": [
      "<class 'numpy.ndarray'>, (4900, 50)\n"
     ]
    }
   ],
   "source": [
    "X = ref_vector_scores[[f\"X{i}\" for i in range(vector_len)]].to_numpy()\n",
    "print(f\"{type(X)}, {X.shape}\")"
   ]
  },
  {
   "cell_type": "code",
   "execution_count": 14,
   "metadata": {},
   "outputs": [],
   "source": [
    "X_train, X_test, y_train, y_test = train_test_split(X, y, test_size=0.1)"
   ]
  },
  {
   "cell_type": "markdown",
   "metadata": {},
   "source": [
    "### BERT transfer learning\n",
    "https://medium.com/@armandj.olivares/using-bert-for-classifying-documents-with-long-texts-5c3e7b04573d"
   ]
  },
  {
   "cell_type": "code",
   "execution_count": 15,
   "metadata": {},
   "outputs": [],
   "source": [
    "model = Sequential()\n",
    "model.add(Embedding(input_dim=X.shape[1], output_dim=20))\n",
    "model.add(Dense(10, activation=\"relu\"))\n",
    "model.add(Dense(1, activation=\"tanh\"))"
   ]
  }
 ],
 "metadata": {
  "kernelspec": {
   "display_name": "Python 3",
   "language": "python",
   "name": "python3"
  },
  "language_info": {
   "codemirror_mode": {
    "name": "ipython",
    "version": 3
   },
   "file_extension": ".py",
   "mimetype": "text/x-python",
   "name": "python",
   "nbconvert_exporter": "python",
   "pygments_lexer": "ipython3",
   "version": "3.7.6"
  }
 },
 "nbformat": 4,
 "nbformat_minor": 4
}
