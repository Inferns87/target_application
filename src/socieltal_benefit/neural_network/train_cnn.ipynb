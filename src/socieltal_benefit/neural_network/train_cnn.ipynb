{
 "cells": [
  {
   "cell_type": "code",
   "execution_count": null,
   "metadata": {},
   "outputs": [],
   "source": [
    "### Import Vectors"
   ]
  },
  {
   "cell_type": "code",
   "execution_count": null,
   "metadata": {},
   "outputs": [],
   "source": [
    "# counter, TF-IDF, word2vec, bert\n",
    "vector_type = \"word2vec\""
   ]
  },
  {
   "cell_type": "code",
   "execution_count": null,
   "metadata": {},
   "outputs": [],
   "source": []
  },
  {
   "cell_type": "code",
   "execution_count": null,
   "metadata": {},
   "outputs": [],
   "source": []
  },
  {
   "cell_type": "code",
   "execution_count": null,
   "metadata": {},
   "outputs": [],
   "source": [
    "corpus = {\n",
    "    \n",
    "}\n",
    "json_documents = glob.glob(f\"{ROOT}/data/papers/json/preprocessed/**/*.json\",\n",
    "                          recursive=True)\n",
    "for json_document in json_documents:\n",
    "    data = read_json_file(f\"{json_document}\")\n",
    "    if \"body\" in data.keys():\n",
    "        document_string = \" \".join(data[\"body\"])\n",
    "    elif \"chapters\" in data.keys():\n",
    "        document_string = \"\"\n",
    "        for chapter in data[\"chapters\"].keys():\n",
    "            document_string += f\" {data['chapters'][chapter]}\"\n",
    "    corpus.append(document_string)\n",
    "print(f\"Loaded {len(corpus)} documents\")"
   ]
  },
  {
   "cell_type": "code",
   "execution_count": null,
   "metadata": {},
   "outputs": [],
   "source": [
    "ref_submissions = glob.glob(f\"{ROOT}/data/papers/json/preprocessed/**/*.json\",\n",
    "                            recursive=True)\n",
    "for ref_submission in ref_submissions.keys():\n",
    "    institution_code = ref_submission.split(\"-\")[0]\n",
    "    uoa = ref_submission.split(\"-\")[1]\n",
    "    ref_paper_dict[\"institution_code\"].append(institution_code)\n",
    "    ref_paper_dict[\"uoa\"].append(uoa)\n",
    "    ref_paper_dict[\"merge_code\"].append(f\"{institution_code}-{uoa}\")\n",
    "    ref_paper_dict[\"tokens\"].append(ref_submissions[ref_submission])\n",
    "    doc_len = len(ref_submissions[ref_submission])\n",
    "ref_vector_df = pd.DataFrame(ref_vector_dict)\n",
    "ref_vector_df"
   ]
  },
  {
   "cell_type": "markdown",
   "metadata": {},
   "source": [
    "### Import Vectors"
   ]
  },
  {
   "cell_type": "code",
   "execution_count": 1,
   "metadata": {},
   "outputs": [
    {
     "ename": "NameError",
     "evalue": "name 'read_json_file' is not defined",
     "output_type": "error",
     "traceback": [
      "\u001b[0;31m---------------------------------------------------------------------------\u001b[0m",
      "\u001b[0;31mNameError\u001b[0m                                 Traceback (most recent call last)",
      "\u001b[0;32m<ipython-input-1-571811754da8>\u001b[0m in \u001b[0;36m<module>\u001b[0;34m\u001b[0m\n\u001b[0;32m----> 1\u001b[0;31m \u001b[0mref_submission_vectors\u001b[0m \u001b[0;34m=\u001b[0m \u001b[0mread_json_file\u001b[0m\u001b[0;34m(\u001b[0m\u001b[0;34mf\"{ROOT}/data/ref_submissions/json/vectorised/{vector_type}_vectors.json\"\u001b[0m\u001b[0;34m)\u001b[0m\u001b[0;34m\u001b[0m\u001b[0;34m\u001b[0m\u001b[0m\n\u001b[0m\u001b[1;32m      2\u001b[0m \u001b[0mpaper_vectors\u001b[0m \u001b[0;34m=\u001b[0m \u001b[0mread_json_file\u001b[0m\u001b[0;34m(\u001b[0m\u001b[0;34mf\"{ROOT}/data/papers/json/vectorised/{vector_type}_vectors.json\"\u001b[0m\u001b[0;34m)\u001b[0m\u001b[0;34m\u001b[0m\u001b[0;34m\u001b[0m\u001b[0m\n",
      "\u001b[0;31mNameError\u001b[0m: name 'read_json_file' is not defined"
     ]
    }
   ],
   "source": [
    "ref_submission_vectors = read_json_file(f\"{ROOT}/data/ref_submissions/json/vectorised/{vector_type}_vectors.json\")\n",
    "paper_vectors = read_json_file(f\"{ROOT}/data/papers/json/vectorised/{vector_type}_vectors.json\")"
   ]
  },
  {
   "cell_type": "code",
   "execution_count": null,
   "metadata": {},
   "outputs": [],
   "source": []
  }
 ],
 "metadata": {
  "kernelspec": {
   "display_name": "Python 3",
   "language": "python",
   "name": "python3"
  },
  "language_info": {
   "codemirror_mode": {
    "name": "ipython",
    "version": 3
   },
   "file_extension": ".py",
   "mimetype": "text/x-python",
   "name": "python",
   "nbconvert_exporter": "python",
   "pygments_lexer": "ipython3",
   "version": "3.7.6"
  }
 },
 "nbformat": 4,
 "nbformat_minor": 4
}
